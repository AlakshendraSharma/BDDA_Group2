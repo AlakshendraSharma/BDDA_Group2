{
 "cells": [
  {
   "cell_type": "markdown",
   "id": "e8e146f9",
   "metadata": {},
   "source": [
    "## Call Libraries"
   ]
  },
  {
   "cell_type": "code",
   "execution_count": null,
   "id": "c0c497d6",
   "metadata": {},
   "outputs": [],
   "source": []
  },
  {
   "cell_type": "code",
   "execution_count": 42,
   "id": "39837883",
   "metadata": {},
   "outputs": [],
   "source": [
    "import os\n",
    "import matplotlib.pyplot as plt\n",
    "import seaborn as sns\n",
    "import numpy as np\n",
    "import pandas as pd\n",
    "\n",
    "# For Displaying outputs of all commands from a cell and not just for the last command\n",
    "from IPython.core.interactiveshell import InteractiveShell\n",
    "InteractiveShell.ast_node_interactivity = \"all\"\n",
    "\n",
    "import warnings   # Import warnings module\n",
    "# To do not print warnings on screen\n",
    "warnings.filterwarnings(\"ignore\")\n",
    "\n",
    "import zipfile # To help read zip file\n",
    "from sklearn.compose import ColumnTransformer\n",
    "\n",
    "# For splitting dataset into training and testing data\n",
    "from sklearn.model_selection import train_test_split\n",
    "\n",
    "\n",
    "# Transformers :\n",
    "# Class for imputing missing values\n",
    "from sklearn.impute import SimpleImputer\n",
    "\n",
    "# One hot encoder for categorical data\n",
    "from sklearn.preprocessing import OneHotEncoder as onehot\n",
    "\n",
    "# For Scaling numeric data\n",
    "from sklearn.preprocessing import StandardScaler as ss\n",
    "\n",
    "# Label encoder for transforming target column\n",
    "from sklearn.preprocessing import LabelEncoder\n",
    "\n",
    "# Dimensionality reduction and noise removal\n",
    "from sklearn.decomposition import PCA\n",
    "\n",
    "# Data splitting and model parameter search\n",
    "from sklearn.model_selection import train_test_split\n",
    "from sklearn.model_selection import StratifiedKFold\n",
    "from xgboost.sklearn import XGBClassifier\n",
    "\n",
    "# Model pipelining\n",
    "from sklearn.pipeline import Pipeline\n",
    "from sklearn.pipeline import make_pipeline\n",
    "\n",
    "# Hyperparameter optimization\n",
    "from sklearn.model_selection import GridSearchCV\n",
    "from sklearn.model_selection import RandomizedSearchCV\n",
    "\n",
    "#Estimator\n",
    "from sklearn.tree import DecisionTreeClassifier \n",
    "from sklearn.linear_model import LogisticRegression\n",
    "from sklearn.ensemble import RandomForestClassifier\n",
    "from sklearn.neighbors import KNeighborsClassifier\n",
    "\n",
    "from sklearn.metrics import  accuracy_score, f1_score, precision_score, recall_score, roc_auc_score\n",
    "from sklearn.metrics import confusion_matrix, classification_report\n",
    "from sklearn import set_config\n",
    "#     pip install scikit-optimize\n",
    "#     pip install 'scikit-optimize[plots]'\n",
    "#     Refer: https://github.com/scikit-optimize/scikit-optimize\n",
    "#     conda install -c conda-forge scikit-optimize\n",
    "#from skopt import BayesSearchCV \n",
    "#from skopt.space import Real, Categorical, Integer"
   ]
  },
  {
   "cell_type": "markdown",
   "id": "c0c9fe52",
   "metadata": {},
   "source": [
    "## Read Data"
   ]
  },
  {
   "cell_type": "code",
   "execution_count": 2,
   "id": "3529a040",
   "metadata": {},
   "outputs": [],
   "source": [
    "# read the dataset using the compression zip\n",
    "df=pd.read_csv(\"Book1.csv\")"
   ]
  },
  {
   "cell_type": "code",
   "execution_count": 3,
   "id": "657f9894",
   "metadata": {},
   "outputs": [
    {
     "data": {
      "text/html": [
       "<div>\n",
       "<style scoped>\n",
       "    .dataframe tbody tr th:only-of-type {\n",
       "        vertical-align: middle;\n",
       "    }\n",
       "\n",
       "    .dataframe tbody tr th {\n",
       "        vertical-align: top;\n",
       "    }\n",
       "\n",
       "    .dataframe thead th {\n",
       "        text-align: right;\n",
       "    }\n",
       "</style>\n",
       "<table border=\"1\" class=\"dataframe\">\n",
       "  <thead>\n",
       "    <tr style=\"text-align: right;\">\n",
       "      <th></th>\n",
       "      <th>AGE</th>\n",
       "      <th>CRED</th>\n",
       "      <th>MS</th>\n",
       "      <th>HEQ</th>\n",
       "      <th>INCOME</th>\n",
       "      <th>DEPC</th>\n",
       "      <th>MOB</th>\n",
       "      <th>MILEAGE</th>\n",
       "      <th>RESTYPE</th>\n",
       "      <th>GENDER</th>\n",
       "      <th>...</th>\n",
       "      <th>female</th>\n",
       "      <th>HOME</th>\n",
       "      <th>CONDO</th>\n",
       "      <th>COOP</th>\n",
       "      <th>renter</th>\n",
       "      <th>emp1</th>\n",
       "      <th>emp2</th>\n",
       "      <th>msn</th>\n",
       "      <th>cuscode</th>\n",
       "      <th>resp</th>\n",
       "    </tr>\n",
       "  </thead>\n",
       "  <tbody>\n",
       "    <tr>\n",
       "      <th>0</th>\n",
       "      <td>20</td>\n",
       "      <td>543.0</td>\n",
       "      <td>U</td>\n",
       "      <td>0.1</td>\n",
       "      <td>20</td>\n",
       "      <td>N</td>\n",
       "      <td>Y</td>\n",
       "      <td>14.418</td>\n",
       "      <td>HOME</td>\n",
       "      <td>M</td>\n",
       "      <td>...</td>\n",
       "      <td>0</td>\n",
       "      <td>1</td>\n",
       "      <td>0</td>\n",
       "      <td>0</td>\n",
       "      <td>1</td>\n",
       "      <td>1</td>\n",
       "      <td>0</td>\n",
       "      <td>0</td>\n",
       "      <td>1</td>\n",
       "      <td>0</td>\n",
       "    </tr>\n",
       "    <tr>\n",
       "      <th>1</th>\n",
       "      <td>18</td>\n",
       "      <td>445.0</td>\n",
       "      <td>U</td>\n",
       "      <td>0.1</td>\n",
       "      <td>20</td>\n",
       "      <td>N</td>\n",
       "      <td>Y</td>\n",
       "      <td>0.311</td>\n",
       "      <td>HOME</td>\n",
       "      <td>M</td>\n",
       "      <td>...</td>\n",
       "      <td>0</td>\n",
       "      <td>1</td>\n",
       "      <td>0</td>\n",
       "      <td>0</td>\n",
       "      <td>1</td>\n",
       "      <td>0</td>\n",
       "      <td>0</td>\n",
       "      <td>0</td>\n",
       "      <td>2</td>\n",
       "      <td>0</td>\n",
       "    </tr>\n",
       "    <tr>\n",
       "      <th>2</th>\n",
       "      <td>19</td>\n",
       "      <td>423.0</td>\n",
       "      <td>U</td>\n",
       "      <td>0.1</td>\n",
       "      <td>20</td>\n",
       "      <td>N</td>\n",
       "      <td>N</td>\n",
       "      <td>17.876</td>\n",
       "      <td>HOME</td>\n",
       "      <td>M</td>\n",
       "      <td>...</td>\n",
       "      <td>0</td>\n",
       "      <td>1</td>\n",
       "      <td>0</td>\n",
       "      <td>0</td>\n",
       "      <td>1</td>\n",
       "      <td>1</td>\n",
       "      <td>0</td>\n",
       "      <td>0</td>\n",
       "      <td>3</td>\n",
       "      <td>0</td>\n",
       "    </tr>\n",
       "    <tr>\n",
       "      <th>3</th>\n",
       "      <td>18</td>\n",
       "      <td>416.0</td>\n",
       "      <td>X</td>\n",
       "      <td>0.1</td>\n",
       "      <td>20</td>\n",
       "      <td>N</td>\n",
       "      <td>Y</td>\n",
       "      <td>17.084</td>\n",
       "      <td>HOME</td>\n",
       "      <td>F</td>\n",
       "      <td>...</td>\n",
       "      <td>1</td>\n",
       "      <td>1</td>\n",
       "      <td>0</td>\n",
       "      <td>0</td>\n",
       "      <td>1</td>\n",
       "      <td>1</td>\n",
       "      <td>0</td>\n",
       "      <td>0</td>\n",
       "      <td>4</td>\n",
       "      <td>0</td>\n",
       "    </tr>\n",
       "    <tr>\n",
       "      <th>4</th>\n",
       "      <td>18</td>\n",
       "      <td>522.0</td>\n",
       "      <td>U</td>\n",
       "      <td>0.1</td>\n",
       "      <td>20</td>\n",
       "      <td>Y</td>\n",
       "      <td>Y</td>\n",
       "      <td>16.510</td>\n",
       "      <td>HOME</td>\n",
       "      <td>F</td>\n",
       "      <td>...</td>\n",
       "      <td>1</td>\n",
       "      <td>1</td>\n",
       "      <td>0</td>\n",
       "      <td>0</td>\n",
       "      <td>1</td>\n",
       "      <td>1</td>\n",
       "      <td>0</td>\n",
       "      <td>0</td>\n",
       "      <td>5</td>\n",
       "      <td>0</td>\n",
       "    </tr>\n",
       "  </tbody>\n",
       "</table>\n",
       "<p>5 rows × 26 columns</p>\n",
       "</div>"
      ],
      "text/plain": [
       "   AGE   CRED MS  HEQ  INCOME DEPC MOB  MILEAGE RESTYPE GENDER  ...  female  \\\n",
       "0   20  543.0  U  0.1      20    N   Y   14.418    HOME      M  ...       0   \n",
       "1   18  445.0  U  0.1      20    N   Y    0.311    HOME      M  ...       0   \n",
       "2   19  423.0  U  0.1      20    N   N   17.876    HOME      M  ...       0   \n",
       "3   18  416.0  X  0.1      20    N   Y   17.084    HOME      F  ...       1   \n",
       "4   18  522.0  U  0.1      20    Y   Y   16.510    HOME      F  ...       1   \n",
       "\n",
       "   HOME  CONDO  COOP renter  emp1  emp2  msn  cuscode  resp  \n",
       "0     1      0     0      1     1     0    0        1     0  \n",
       "1     1      0     0      1     0     0    0        2     0  \n",
       "2     1      0     0      1     1     0    0        3     0  \n",
       "3     1      0     0      1     1     0    0        4     0  \n",
       "4     1      0     0      1     1     0    0        5     0  \n",
       "\n",
       "[5 rows x 26 columns]"
      ]
     },
     "execution_count": 3,
     "metadata": {},
     "output_type": "execute_result"
    }
   ],
   "source": [
    "df.head()"
   ]
  },
  {
   "cell_type": "code",
   "execution_count": 4,
   "id": "34d27d6d",
   "metadata": {},
   "outputs": [
    {
     "data": {
      "text/plain": [
       "777504"
      ]
     },
     "execution_count": 4,
     "metadata": {},
     "output_type": "execute_result"
    }
   ],
   "source": [
    "#Checkin the size of data\n",
    "df.size"
   ]
  },
  {
   "cell_type": "markdown",
   "id": "8818603b",
   "metadata": {},
   "source": [
    "## Data Exploration"
   ]
  },
  {
   "cell_type": "code",
   "execution_count": 5,
   "id": "fb5bcb0e",
   "metadata": {},
   "outputs": [
    {
     "name": "stdout",
     "output_type": "stream",
     "text": [
      "<class 'pandas.core.frame.DataFrame'>\n",
      "RangeIndex: 29904 entries, 0 to 29903\n",
      "Data columns (total 26 columns):\n",
      " #   Column   Non-Null Count  Dtype  \n",
      "---  ------   --------------  -----  \n",
      " 0   AGE      29904 non-null  int64  \n",
      " 1   CRED     29871 non-null  float64\n",
      " 2   MS       29904 non-null  object \n",
      " 3   HEQ      29904 non-null  float64\n",
      " 4   INCOME   29904 non-null  int64  \n",
      " 5   DEPC     29904 non-null  object \n",
      " 6   MOB      29904 non-null  object \n",
      " 7   MILEAGE  29904 non-null  float64\n",
      " 8   RESTYPE  29904 non-null  object \n",
      " 9   GENDER   29904 non-null  object \n",
      " 10  EMP_STA  29904 non-null  int64  \n",
      " 11  RES_STA  29904 non-null  int64  \n",
      " 12  DELINQ   29904 non-null  int64  \n",
      " 13  NUMTR    29904 non-null  int64  \n",
      " 14  MRTGI    29904 non-null  object \n",
      " 15  MFDU     29904 non-null  int64  \n",
      " 16  female   29904 non-null  int64  \n",
      " 17  HOME     29904 non-null  int64  \n",
      " 18  CONDO    29904 non-null  int64  \n",
      " 19  COOP     29904 non-null  int64  \n",
      " 20  renter   29904 non-null  int64  \n",
      " 21  emp1     29904 non-null  int64  \n",
      " 22  emp2     29904 non-null  int64  \n",
      " 23  msn      29904 non-null  int64  \n",
      " 24  cuscode  29904 non-null  int64  \n",
      " 25  resp     29904 non-null  int64  \n",
      "dtypes: float64(3), int64(17), object(6)\n",
      "memory usage: 5.9+ MB\n"
     ]
    }
   ],
   "source": [
    "#Checking the dataset\n",
    "df.info()"
   ]
  },
  {
   "cell_type": "code",
   "execution_count": 6,
   "id": "06706f99",
   "metadata": {},
   "outputs": [
    {
     "data": {
      "text/plain": [
       "AGE          int64\n",
       "CRED       float64\n",
       "MS          object\n",
       "HEQ        float64\n",
       "INCOME       int64\n",
       "DEPC        object\n",
       "MOB         object\n",
       "MILEAGE    float64\n",
       "RESTYPE     object\n",
       "GENDER      object\n",
       "EMP_STA      int64\n",
       "RES_STA      int64\n",
       "DELINQ       int64\n",
       "NUMTR        int64\n",
       "MRTGI       object\n",
       "MFDU         int64\n",
       "female       int64\n",
       "HOME         int64\n",
       "CONDO        int64\n",
       "COOP         int64\n",
       "renter       int64\n",
       "emp1         int64\n",
       "emp2         int64\n",
       "msn          int64\n",
       "cuscode      int64\n",
       "resp         int64\n",
       "dtype: object"
      ]
     },
     "execution_count": 6,
     "metadata": {},
     "output_type": "execute_result"
    }
   ],
   "source": [
    "#Checkin the dtypes\n",
    "df.dtypes"
   ]
  },
  {
   "cell_type": "code",
   "execution_count": 7,
   "id": "739e3608",
   "metadata": {},
   "outputs": [
    {
     "data": {
      "text/plain": [
       "(29904, 26)"
      ]
     },
     "execution_count": 7,
     "metadata": {},
     "output_type": "execute_result"
    }
   ],
   "source": [
    "#chekcing the number of rows and columns in the dataset\n",
    "df.shape"
   ]
  },
  {
   "cell_type": "code",
   "execution_count": 8,
   "id": "c4886706",
   "metadata": {},
   "outputs": [],
   "source": [
    "# To drop ID column as it is not required in modeling or even Data exploration\n",
    "df.drop(\"cuscode\", axis=1, inplace=True)"
   ]
  },
  {
   "cell_type": "code",
   "execution_count": 9,
   "id": "0ce15041",
   "metadata": {},
   "outputs": [
    {
     "data": {
      "text/plain": [
       "AGE         0\n",
       "CRED       33\n",
       "MS          0\n",
       "HEQ         0\n",
       "INCOME      0\n",
       "DEPC        0\n",
       "MOB         0\n",
       "MILEAGE     0\n",
       "RESTYPE     0\n",
       "GENDER      0\n",
       "EMP_STA     0\n",
       "RES_STA     0\n",
       "DELINQ      0\n",
       "NUMTR       0\n",
       "MRTGI       0\n",
       "MFDU        0\n",
       "female      0\n",
       "HOME        0\n",
       "CONDO       0\n",
       "COOP        0\n",
       "renter      0\n",
       "emp1        0\n",
       "emp2        0\n",
       "msn         0\n",
       "resp        0\n",
       "dtype: int64"
      ]
     },
     "execution_count": 9,
     "metadata": {},
     "output_type": "execute_result"
    }
   ],
   "source": [
    "#To print number of null values in each column/feature\n",
    "df.isnull().sum()"
   ]
  },
  {
   "cell_type": "markdown",
   "id": "4352f505",
   "metadata": {},
   "source": [
    "## Data Pre-Processing and Cleaning"
   ]
  },
  {
   "cell_type": "code",
   "execution_count": 10,
   "id": "97ad0171",
   "metadata": {},
   "outputs": [
    {
     "name": "stdout",
     "output_type": "stream",
     "text": [
      "Number of Constant features are:\n",
      "1\n"
     ]
    }
   ],
   "source": [
    "count_unique_values = df.nunique().sort_values()\n",
    "\n",
    "#find features that have constant values only\n",
    "#such features do not provide any information and only make our dataset larger.\n",
    "constantfeatures = [features for features in df.columns if count_unique_values[features] == 1]\n",
    "\n",
    "print(\"Number of Constant features are:\")\n",
    "print(len(constantfeatures)) \n",
    "\n",
    "# Removing features with constant values\n",
    "df.drop(constantfeatures, axis=1, inplace=True)"
   ]
  },
  {
   "cell_type": "code",
   "execution_count": 11,
   "id": "dceebb9e",
   "metadata": {},
   "outputs": [],
   "source": [
    "# Understanding which features are catagorical and which are numerical based on datatype for imputation\n",
    "catagorical_features = df.select_dtypes(include=[np.object]).columns \n",
    "numerical_features = df.select_dtypes(include=[np.number]).columns"
   ]
  },
  {
   "cell_type": "code",
   "execution_count": 12,
   "id": "3e244512",
   "metadata": {},
   "outputs": [
    {
     "data": {
      "text/plain": [
       "6"
      ]
     },
     "execution_count": 12,
     "metadata": {},
     "output_type": "execute_result"
    }
   ],
   "source": [
    "\n",
    "# Total number of categorical features in the dataset\n",
    "len(catagorical_features)"
   ]
  },
  {
   "cell_type": "code",
   "execution_count": 13,
   "id": "53806ef8",
   "metadata": {},
   "outputs": [
    {
     "data": {
      "text/plain": [
       "18"
      ]
     },
     "execution_count": 13,
     "metadata": {},
     "output_type": "execute_result"
    }
   ],
   "source": [
    "# Total number of numerical features in the dataset\n",
    "len(numerical_features)"
   ]
  },
  {
   "cell_type": "code",
   "execution_count": 14,
   "id": "3ee20e4d",
   "metadata": {},
   "outputs": [
    {
     "name": "stdout",
     "output_type": "stream",
     "text": [
      "\n",
      " \n",
      "************* Column name: MS *************\n",
      "Number of Unique values: 3\n",
      "Unique Values: ['U' 'X' 'M']\n",
      "\n",
      " \n",
      "************* Column name: DEPC *************\n",
      "Number of Unique values: 2\n",
      "Unique Values: ['N' 'Y']\n",
      "\n",
      " \n",
      "************* Column name: MOB *************\n",
      "Number of Unique values: 2\n",
      "Unique Values: ['Y' 'N']\n",
      "\n",
      " \n",
      "************* Column name: RESTYPE *************\n",
      "Number of Unique values: 4\n",
      "Unique Values: ['HOME' 'RENTER' 'CONDO' 'COOP']\n",
      "\n",
      " \n",
      "************* Column name: GENDER *************\n",
      "Number of Unique values: 2\n",
      "Unique Values: ['M' 'F']\n",
      "\n",
      " \n",
      "************* Column name: MRTGI *************\n",
      "Number of Unique values: 3\n",
      "Unique Values: ['N' 'Y' 'U']\n"
     ]
    }
   ],
   "source": [
    "#To print unique values of catagorical featured (object data type)\n",
    "for feature in catagorical_features:\n",
    "    print('\\n ')\n",
    "    print('*************','Column name:',feature,'*************')\n",
    "    print('Number of Unique values:',df[feature].nunique())\n",
    "    print('Unique Values:',df[feature].unique())"
   ]
  },
  {
   "cell_type": "code",
   "execution_count": 15,
   "id": "b8675c18",
   "metadata": {},
   "outputs": [
    {
     "data": {
      "text/plain": [
       "AGE        0.000000\n",
       "CRED       0.110353\n",
       "MS         0.000000\n",
       "HEQ        0.000000\n",
       "INCOME     0.000000\n",
       "DEPC       0.000000\n",
       "MOB        0.000000\n",
       "MILEAGE    0.000000\n",
       "RESTYPE    0.000000\n",
       "GENDER     0.000000\n",
       "EMP_STA    0.000000\n",
       "RES_STA    0.000000\n",
       "DELINQ     0.000000\n",
       "NUMTR      0.000000\n",
       "MRTGI      0.000000\n",
       "MFDU       0.000000\n",
       "female     0.000000\n",
       "HOME       0.000000\n",
       "CONDO      0.000000\n",
       "COOP       0.000000\n",
       "emp1       0.000000\n",
       "emp2       0.000000\n",
       "msn        0.000000\n",
       "resp       0.000000\n",
       "dtype: float64"
      ]
     },
     "execution_count": 15,
     "metadata": {},
     "output_type": "execute_result"
    }
   ],
   "source": [
    "# missing values in %\n",
    "percent_miss = 100* df.isnull().sum()/len(df)\n",
    "percent_miss"
   ]
  },
  {
   "cell_type": "code",
   "execution_count": 16,
   "id": "53a1e739",
   "metadata": {},
   "outputs": [
    {
     "data": {
      "text/plain": [
       "0"
      ]
     },
     "execution_count": 16,
     "metadata": {},
     "output_type": "execute_result"
    }
   ],
   "source": [
    "# Calculating how many features have more than 50% of data missing in them\n",
    "np.sum(percent_miss > 50)"
   ]
  },
  {
   "cell_type": "code",
   "execution_count": 17,
   "id": "49a33454",
   "metadata": {},
   "outputs": [],
   "source": [
    "# Remove these 24 features,as these have more than 50% data missing\n",
    "missing = [feature for feature in df.columns if percent_miss[feature] > 50]\n",
    "df.drop(missing, axis=1, inplace=True)"
   ]
  },
  {
   "cell_type": "code",
   "execution_count": 18,
   "id": "149f89eb",
   "metadata": {},
   "outputs": [
    {
     "data": {
      "text/plain": [
       "(29904, 24)"
      ]
     },
     "execution_count": 18,
     "metadata": {},
     "output_type": "execute_result"
    }
   ],
   "source": [
    "# The updated data structure\n",
    "df.shape"
   ]
  },
  {
   "cell_type": "code",
   "execution_count": 19,
   "id": "faa94ee6",
   "metadata": {},
   "outputs": [],
   "source": [
    "remove_missing_features = [feature for feature in df.columns if percent_miss[feature] < 0.5]\n",
    "fill_missing_features = [feature for feature in df.columns if percent_miss[feature] > 0.5] "
   ]
  },
  {
   "cell_type": "code",
   "execution_count": 20,
   "id": "221e251a",
   "metadata": {},
   "outputs": [],
   "source": [
    "# filling in the missing data for features containing many of them\n",
    "for col in fill_missing_features:\n",
    "    if col in catagorical_features:\n",
    "        # For catagorical feature fill missing data with mode\n",
    "        df[col].fillna(df[col].mode(), inplace=True)\n",
    "    else:\n",
    "        # fill missing data with mean\n",
    "        df[col].fillna(df[col].mean(), inplace=True)\n",
    "\n",
    "# removing rows with less than 0.5% missing data in them (only a few examples will be deleted )\n",
    "df.dropna(axis=0, inplace=True)"
   ]
  },
  {
   "cell_type": "code",
   "execution_count": 21,
   "id": "ecea21b3",
   "metadata": {},
   "outputs": [
    {
     "data": {
      "text/plain": [
       "(29871, 24)"
      ]
     },
     "execution_count": 21,
     "metadata": {},
     "output_type": "execute_result"
    }
   ],
   "source": [
    "df.shape"
   ]
  },
  {
   "cell_type": "code",
   "execution_count": 22,
   "id": "3e6ea893",
   "metadata": {},
   "outputs": [
    {
     "data": {
      "text/plain": [
       "AGE        0\n",
       "CRED       0\n",
       "MS         0\n",
       "HEQ        0\n",
       "INCOME     0\n",
       "DEPC       0\n",
       "MOB        0\n",
       "MILEAGE    0\n",
       "RESTYPE    0\n",
       "GENDER     0\n",
       "EMP_STA    0\n",
       "RES_STA    0\n",
       "DELINQ     0\n",
       "NUMTR      0\n",
       "MRTGI      0\n",
       "MFDU       0\n",
       "female     0\n",
       "HOME       0\n",
       "CONDO      0\n",
       "COOP       0\n",
       "emp1       0\n",
       "emp2       0\n",
       "msn        0\n",
       "resp       0\n",
       "dtype: int64"
      ]
     },
     "execution_count": 22,
     "metadata": {},
     "output_type": "execute_result"
    }
   ],
   "source": [
    "df.isnull().sum()"
   ]
  },
  {
   "cell_type": "code",
   "execution_count": 23,
   "id": "3a5baab7",
   "metadata": {},
   "outputs": [
    {
     "data": {
      "text/plain": [
       "0"
      ]
     },
     "execution_count": 23,
     "metadata": {},
     "output_type": "execute_result"
    }
   ],
   "source": [
    "# Check for any duplicate columns created\n",
    "df.columns.duplicated().sum()"
   ]
  },
  {
   "cell_type": "code",
   "execution_count": 24,
   "id": "a48b91fb",
   "metadata": {},
   "outputs": [
    {
     "data": {
      "text/plain": [
       "resp       1.000000\n",
       "NUMTR      0.096309\n",
       "MFDU       0.080543\n",
       "DELINQ     0.020370\n",
       "MILEAGE    0.019328\n",
       "emp1       0.012892\n",
       "COOP       0.011050\n",
       "msn        0.009094\n",
       "EMP_STA    0.004436\n",
       "CONDO      0.000722\n",
       "Name: resp, dtype: float64"
      ]
     },
     "execution_count": 24,
     "metadata": {},
     "output_type": "execute_result"
    }
   ],
   "source": [
    "corr=df.corr()\n",
    "corr['resp'].sort_values(ascending=False).head(10)"
   ]
  },
  {
   "cell_type": "code",
   "execution_count": 25,
   "id": "b97d913b",
   "metadata": {},
   "outputs": [
    {
     "data": {
      "text/plain": [
       "<Figure size 1800x1296 with 0 Axes>"
      ]
     },
     "execution_count": 25,
     "metadata": {},
     "output_type": "execute_result"
    },
    {
     "data": {
      "text/plain": [
       "Text(0.5, 1.0, 'Pearson correlation')"
      ]
     },
     "execution_count": 25,
     "metadata": {},
     "output_type": "execute_result"
    },
    {
     "data": {
      "image/png": "[encoded data removed]",
      "text/plain": [
       "<Figure size 1800x1296 with 2 Axes>"
      ]
     },
     "metadata": {
      "needs_background": "light"
     },
     "output_type": "display_data"
    }
   ],
   "source": [
    "#CORRELATION\n",
    "plt.figure(figsize=(25,18))\n",
    "_=sns.heatmap(df.corr('pearson'),annot=True,cmap='RdPu');\n",
    "plt.title('Pearson correlation')\n",
    "plt.tight_layout()"
   ]
  },
  {
   "cell_type": "code",
   "execution_count": 26,
   "id": "c99a86e0",
   "metadata": {},
   "outputs": [],
   "source": [
    "def plots(p,predict,train,xlabel):\n",
    "    plt.plot(p,predict,'g')\n",
    "    plt.plot(p,train,'b')\n",
    "    plt.title('Variation of Accuracy')\n",
    "    plt.xlabel(xlabel)\n",
    "    plt.ylabel('Accuracy')\n",
    "    plt.legend(('Test','Train'))"
   ]
  },
  {
   "cell_type": "code",
   "execution_count": 27,
   "id": "5e776ec8",
   "metadata": {},
   "outputs": [
    {
     "name": "stdout",
     "output_type": "stream",
     "text": [
      "0    90.44\n",
      "1     9.56\n",
      "Name: resp, dtype: float64\n"
     ]
    }
   ],
   "source": [
    "print(round(df.resp.value_counts() *100/ df.resp.count(),2))"
   ]
  },
  {
   "cell_type": "code",
   "execution_count": 28,
   "id": "d6fbaedf",
   "metadata": {},
   "outputs": [],
   "source": [
    "cat_col = df.select_dtypes(include=[np.object]).columns\n",
    "num_col = ['AGE','CRED','HEQ','INCOME','MILEAGE','EMP_STA','RES_STA','DELINQ','NUMTR','MFDU','female','HOME','CONDO','COOP','emp1','emp2','msn']"
   ]
  },
  {
   "cell_type": "code",
   "execution_count": 29,
   "id": "0296d4f1",
   "metadata": {},
   "outputs": [],
   "source": [
    "# Create pipe for both numerical as also categorical data\n",
    "nc_pipe = Pipeline([ ('impute', SimpleImputer(strategy = 'median')), ('ss',ss() )])\n",
    "cat_pipe = Pipeline([('impute', SimpleImputer(strategy = 'most_frequent')), ('ohe', onehot())])"
   ]
  },
  {
   "cell_type": "code",
   "execution_count": 30,
   "id": "f7ff1722",
   "metadata": {},
   "outputs": [
    {
     "data": {
      "text/plain": [
       "array([[-1.88476863, -0.61779541, -1.02732369, ...,  0.31893953,\n",
       "        -0.25247608, -1.1646092 ],\n",
       "       [-2.01341168, -1.61641956, -1.02732369, ..., -3.13539063,\n",
       "        -0.25247608, -1.1646092 ],\n",
       "       [-1.94909015, -1.8406005 , -1.02732369, ...,  0.31893953,\n",
       "        -0.25247608, -1.1646092 ],\n",
       "       ...,\n",
       "       [ 0.94537849, 12.07899739, -0.22393766, ...,  0.31893953,\n",
       "        -0.25247608,  0.85865714],\n",
       "       [ 0.94537849, 12.07899739, -0.22393766, ...,  0.31893953,\n",
       "        -0.25247608,  0.85865714],\n",
       "       [ 1.20266459, 12.07899739,  1.3882082 , ...,  0.31893953,\n",
       "        -0.25247608,  0.85865714]])"
      ]
     },
     "execution_count": 30,
     "metadata": {},
     "output_type": "execute_result"
    },
    {
     "data": {
      "text/plain": [
       "<29871x16 sparse matrix of type '<class 'numpy.float64'>'\n",
       "\twith 179226 stored elements in Compressed Sparse Row format>"
      ]
     },
     "execution_count": 30,
     "metadata": {},
     "output_type": "execute_result"
    }
   ],
   "source": [
    "# Test each pipe\n",
    "nc_pipe.fit_transform(df[num_col])\n",
    "cat_pipe.fit_transform(df[cat_col])"
   ]
  },
  {
   "cell_type": "code",
   "execution_count": 31,
   "id": "2fbdedf0",
   "metadata": {},
   "outputs": [],
   "source": [
    " #Now put the two pipes within one column-transformer\n",
    "ct = ColumnTransformer(\n",
    "                        [\n",
    "                        ('nc_pipe',nc_pipe,num_col), \n",
    "                        ('cat_pipe',cat_pipe,cat_col)\n",
    "                        ]\n",
    "                       )"
   ]
  },
  {
   "cell_type": "code",
   "execution_count": 32,
   "id": "d2e33505",
   "metadata": {},
   "outputs": [
    {
     "data": {
      "text/plain": [
       "array([[-1.88476863, -0.61779541, -1.02732369, ...,  1.        ,\n",
       "         0.        ,  0.        ],\n",
       "       [-2.01341168, -1.61641956, -1.02732369, ...,  0.        ,\n",
       "         0.        ,  1.        ],\n",
       "       [-1.94909015, -1.8406005 , -1.02732369, ...,  0.        ,\n",
       "         0.        ,  1.        ],\n",
       "       ...,\n",
       "       [ 0.94537849, 12.07899739, -0.22393766, ...,  1.        ,\n",
       "         0.        ,  0.        ],\n",
       "       [ 0.94537849, 12.07899739, -0.22393766, ...,  0.        ,\n",
       "         0.        ,  1.        ],\n",
       "       [ 1.20266459, 12.07899739,  1.3882082 , ...,  0.        ,\n",
       "         1.        ,  0.        ]])"
      ]
     },
     "execution_count": 32,
     "metadata": {},
     "output_type": "execute_result"
    }
   ],
   "source": [
    "# Test this column transformer pipe\n",
    "ct.fit_transform(df)"
   ]
  },
  {
   "cell_type": "code",
   "execution_count": 33,
   "id": "c31fe75b",
   "metadata": {},
   "outputs": [],
   "source": [
    "# Final pipe to bring in the column-transformer followed by estimator\n",
    "pt = Pipeline([ \n",
    "                ('ct',ct), \n",
    "                ('classifier', DecisionTreeClassifier())])"
   ]
  },
  {
   "cell_type": "code",
   "execution_count": 34,
   "id": "087ec825",
   "metadata": {},
   "outputs": [],
   "source": [
    "# Your train data\n",
    "y_train = df.resp\n",
    "X_train = df.drop('resp', axis=1)\n"
   ]
  },
  {
   "cell_type": "code",
   "execution_count": 35,
   "id": "088e8514",
   "metadata": {},
   "outputs": [
    {
     "data": {
      "text/plain": [
       "0    0\n",
       "1    0\n",
       "2    0\n",
       "3    0\n",
       "4    0\n",
       "Name: resp, dtype: int64"
      ]
     },
     "execution_count": 35,
     "metadata": {},
     "output_type": "execute_result"
    }
   ],
   "source": [
    "y_train.head()"
   ]
  },
  {
   "cell_type": "code",
   "execution_count": 36,
   "id": "a4598a90",
   "metadata": {},
   "outputs": [
    {
     "data": {
      "text/html": [
       "<div>\n",
       "<style scoped>\n",
       "    .dataframe tbody tr th:only-of-type {\n",
       "        vertical-align: middle;\n",
       "    }\n",
       "\n",
       "    .dataframe tbody tr th {\n",
       "        vertical-align: top;\n",
       "    }\n",
       "\n",
       "    .dataframe thead th {\n",
       "        text-align: right;\n",
       "    }\n",
       "</style>\n",
       "<table border=\"1\" class=\"dataframe\">\n",
       "  <thead>\n",
       "    <tr style=\"text-align: right;\">\n",
       "      <th></th>\n",
       "      <th>AGE</th>\n",
       "      <th>CRED</th>\n",
       "      <th>MS</th>\n",
       "      <th>HEQ</th>\n",
       "      <th>INCOME</th>\n",
       "      <th>DEPC</th>\n",
       "      <th>MOB</th>\n",
       "      <th>MILEAGE</th>\n",
       "      <th>RESTYPE</th>\n",
       "      <th>GENDER</th>\n",
       "      <th>...</th>\n",
       "      <th>NUMTR</th>\n",
       "      <th>MRTGI</th>\n",
       "      <th>MFDU</th>\n",
       "      <th>female</th>\n",
       "      <th>HOME</th>\n",
       "      <th>CONDO</th>\n",
       "      <th>COOP</th>\n",
       "      <th>emp1</th>\n",
       "      <th>emp2</th>\n",
       "      <th>msn</th>\n",
       "    </tr>\n",
       "  </thead>\n",
       "  <tbody>\n",
       "    <tr>\n",
       "      <th>0</th>\n",
       "      <td>20</td>\n",
       "      <td>543.0</td>\n",
       "      <td>U</td>\n",
       "      <td>0.1</td>\n",
       "      <td>20</td>\n",
       "      <td>N</td>\n",
       "      <td>Y</td>\n",
       "      <td>14.418</td>\n",
       "      <td>HOME</td>\n",
       "      <td>M</td>\n",
       "      <td>...</td>\n",
       "      <td>2</td>\n",
       "      <td>N</td>\n",
       "      <td>0</td>\n",
       "      <td>0</td>\n",
       "      <td>1</td>\n",
       "      <td>0</td>\n",
       "      <td>0</td>\n",
       "      <td>1</td>\n",
       "      <td>0</td>\n",
       "      <td>0</td>\n",
       "    </tr>\n",
       "    <tr>\n",
       "      <th>1</th>\n",
       "      <td>18</td>\n",
       "      <td>445.0</td>\n",
       "      <td>U</td>\n",
       "      <td>0.1</td>\n",
       "      <td>20</td>\n",
       "      <td>N</td>\n",
       "      <td>Y</td>\n",
       "      <td>0.311</td>\n",
       "      <td>HOME</td>\n",
       "      <td>M</td>\n",
       "      <td>...</td>\n",
       "      <td>2</td>\n",
       "      <td>Y</td>\n",
       "      <td>0</td>\n",
       "      <td>0</td>\n",
       "      <td>1</td>\n",
       "      <td>0</td>\n",
       "      <td>0</td>\n",
       "      <td>0</td>\n",
       "      <td>0</td>\n",
       "      <td>0</td>\n",
       "    </tr>\n",
       "    <tr>\n",
       "      <th>2</th>\n",
       "      <td>19</td>\n",
       "      <td>423.0</td>\n",
       "      <td>U</td>\n",
       "      <td>0.1</td>\n",
       "      <td>20</td>\n",
       "      <td>N</td>\n",
       "      <td>N</td>\n",
       "      <td>17.876</td>\n",
       "      <td>HOME</td>\n",
       "      <td>M</td>\n",
       "      <td>...</td>\n",
       "      <td>0</td>\n",
       "      <td>Y</td>\n",
       "      <td>0</td>\n",
       "      <td>0</td>\n",
       "      <td>1</td>\n",
       "      <td>0</td>\n",
       "      <td>0</td>\n",
       "      <td>1</td>\n",
       "      <td>0</td>\n",
       "      <td>0</td>\n",
       "    </tr>\n",
       "    <tr>\n",
       "      <th>3</th>\n",
       "      <td>18</td>\n",
       "      <td>416.0</td>\n",
       "      <td>X</td>\n",
       "      <td>0.1</td>\n",
       "      <td>20</td>\n",
       "      <td>N</td>\n",
       "      <td>Y</td>\n",
       "      <td>17.084</td>\n",
       "      <td>HOME</td>\n",
       "      <td>F</td>\n",
       "      <td>...</td>\n",
       "      <td>0</td>\n",
       "      <td>Y</td>\n",
       "      <td>0</td>\n",
       "      <td>1</td>\n",
       "      <td>1</td>\n",
       "      <td>0</td>\n",
       "      <td>0</td>\n",
       "      <td>1</td>\n",
       "      <td>0</td>\n",
       "      <td>0</td>\n",
       "    </tr>\n",
       "    <tr>\n",
       "      <th>4</th>\n",
       "      <td>18</td>\n",
       "      <td>522.0</td>\n",
       "      <td>U</td>\n",
       "      <td>0.1</td>\n",
       "      <td>20</td>\n",
       "      <td>Y</td>\n",
       "      <td>Y</td>\n",
       "      <td>16.510</td>\n",
       "      <td>HOME</td>\n",
       "      <td>F</td>\n",
       "      <td>...</td>\n",
       "      <td>0</td>\n",
       "      <td>Y</td>\n",
       "      <td>0</td>\n",
       "      <td>1</td>\n",
       "      <td>1</td>\n",
       "      <td>0</td>\n",
       "      <td>0</td>\n",
       "      <td>1</td>\n",
       "      <td>0</td>\n",
       "      <td>0</td>\n",
       "    </tr>\n",
       "    <tr>\n",
       "      <th>...</th>\n",
       "      <td>...</td>\n",
       "      <td>...</td>\n",
       "      <td>...</td>\n",
       "      <td>...</td>\n",
       "      <td>...</td>\n",
       "      <td>...</td>\n",
       "      <td>...</td>\n",
       "      <td>...</td>\n",
       "      <td>...</td>\n",
       "      <td>...</td>\n",
       "      <td>...</td>\n",
       "      <td>...</td>\n",
       "      <td>...</td>\n",
       "      <td>...</td>\n",
       "      <td>...</td>\n",
       "      <td>...</td>\n",
       "      <td>...</td>\n",
       "      <td>...</td>\n",
       "      <td>...</td>\n",
       "      <td>...</td>\n",
       "      <td>...</td>\n",
       "    </tr>\n",
       "    <tr>\n",
       "      <th>29899</th>\n",
       "      <td>56</td>\n",
       "      <td>1789.0</td>\n",
       "      <td>M</td>\n",
       "      <td>30.0</td>\n",
       "      <td>30</td>\n",
       "      <td>Y</td>\n",
       "      <td>Y</td>\n",
       "      <td>17.302</td>\n",
       "      <td>COOP</td>\n",
       "      <td>F</td>\n",
       "      <td>...</td>\n",
       "      <td>0</td>\n",
       "      <td>Y</td>\n",
       "      <td>1</td>\n",
       "      <td>1</td>\n",
       "      <td>0</td>\n",
       "      <td>0</td>\n",
       "      <td>1</td>\n",
       "      <td>1</td>\n",
       "      <td>0</td>\n",
       "      <td>1</td>\n",
       "    </tr>\n",
       "    <tr>\n",
       "      <th>29900</th>\n",
       "      <td>58</td>\n",
       "      <td>1789.0</td>\n",
       "      <td>U</td>\n",
       "      <td>30.0</td>\n",
       "      <td>40</td>\n",
       "      <td>Y</td>\n",
       "      <td>N</td>\n",
       "      <td>10.509</td>\n",
       "      <td>HOME</td>\n",
       "      <td>M</td>\n",
       "      <td>...</td>\n",
       "      <td>0</td>\n",
       "      <td>Y</td>\n",
       "      <td>0</td>\n",
       "      <td>0</td>\n",
       "      <td>1</td>\n",
       "      <td>0</td>\n",
       "      <td>0</td>\n",
       "      <td>1</td>\n",
       "      <td>0</td>\n",
       "      <td>0</td>\n",
       "    </tr>\n",
       "    <tr>\n",
       "      <th>29901</th>\n",
       "      <td>64</td>\n",
       "      <td>1789.0</td>\n",
       "      <td>M</td>\n",
       "      <td>30.0</td>\n",
       "      <td>40</td>\n",
       "      <td>Y</td>\n",
       "      <td>N</td>\n",
       "      <td>4.749</td>\n",
       "      <td>RENTER</td>\n",
       "      <td>F</td>\n",
       "      <td>...</td>\n",
       "      <td>3</td>\n",
       "      <td>N</td>\n",
       "      <td>1</td>\n",
       "      <td>1</td>\n",
       "      <td>0</td>\n",
       "      <td>0</td>\n",
       "      <td>0</td>\n",
       "      <td>1</td>\n",
       "      <td>0</td>\n",
       "      <td>1</td>\n",
       "    </tr>\n",
       "    <tr>\n",
       "      <th>29902</th>\n",
       "      <td>64</td>\n",
       "      <td>1789.0</td>\n",
       "      <td>M</td>\n",
       "      <td>30.0</td>\n",
       "      <td>40</td>\n",
       "      <td>Y</td>\n",
       "      <td>Y</td>\n",
       "      <td>11.110</td>\n",
       "      <td>HOME</td>\n",
       "      <td>F</td>\n",
       "      <td>...</td>\n",
       "      <td>0</td>\n",
       "      <td>Y</td>\n",
       "      <td>0</td>\n",
       "      <td>1</td>\n",
       "      <td>1</td>\n",
       "      <td>0</td>\n",
       "      <td>0</td>\n",
       "      <td>1</td>\n",
       "      <td>0</td>\n",
       "      <td>1</td>\n",
       "    </tr>\n",
       "    <tr>\n",
       "      <th>29903</th>\n",
       "      <td>68</td>\n",
       "      <td>1789.0</td>\n",
       "      <td>M</td>\n",
       "      <td>90.0</td>\n",
       "      <td>40</td>\n",
       "      <td>N</td>\n",
       "      <td>Y</td>\n",
       "      <td>18.653</td>\n",
       "      <td>HOME</td>\n",
       "      <td>M</td>\n",
       "      <td>...</td>\n",
       "      <td>1</td>\n",
       "      <td>U</td>\n",
       "      <td>0</td>\n",
       "      <td>0</td>\n",
       "      <td>1</td>\n",
       "      <td>0</td>\n",
       "      <td>0</td>\n",
       "      <td>1</td>\n",
       "      <td>0</td>\n",
       "      <td>1</td>\n",
       "    </tr>\n",
       "  </tbody>\n",
       "</table>\n",
       "<p>29871 rows × 23 columns</p>\n",
       "</div>"
      ],
      "text/plain": [
       "       AGE    CRED MS   HEQ  INCOME DEPC MOB  MILEAGE RESTYPE GENDER  ...  \\\n",
       "0       20   543.0  U   0.1      20    N   Y   14.418    HOME      M  ...   \n",
       "1       18   445.0  U   0.1      20    N   Y    0.311    HOME      M  ...   \n",
       "2       19   423.0  U   0.1      20    N   N   17.876    HOME      M  ...   \n",
       "3       18   416.0  X   0.1      20    N   Y   17.084    HOME      F  ...   \n",
       "4       18   522.0  U   0.1      20    Y   Y   16.510    HOME      F  ...   \n",
       "...    ...     ... ..   ...     ...  ...  ..      ...     ...    ...  ...   \n",
       "29899   56  1789.0  M  30.0      30    Y   Y   17.302    COOP      F  ...   \n",
       "29900   58  1789.0  U  30.0      40    Y   N   10.509    HOME      M  ...   \n",
       "29901   64  1789.0  M  30.0      40    Y   N    4.749  RENTER      F  ...   \n",
       "29902   64  1789.0  M  30.0      40    Y   Y   11.110    HOME      F  ...   \n",
       "29903   68  1789.0  M  90.0      40    N   Y   18.653    HOME      M  ...   \n",
       "\n",
       "       NUMTR  MRTGI  MFDU  female HOME  CONDO  COOP  emp1  emp2  msn  \n",
       "0          2      N     0       0    1      0     0     1     0    0  \n",
       "1          2      Y     0       0    1      0     0     0     0    0  \n",
       "2          0      Y     0       0    1      0     0     1     0    0  \n",
       "3          0      Y     0       1    1      0     0     1     0    0  \n",
       "4          0      Y     0       1    1      0     0     1     0    0  \n",
       "...      ...    ...   ...     ...  ...    ...   ...   ...   ...  ...  \n",
       "29899      0      Y     1       1    0      0     1     1     0    1  \n",
       "29900      0      Y     0       0    1      0     0     1     0    0  \n",
       "29901      3      N     1       1    0      0     0     1     0    1  \n",
       "29902      0      Y     0       1    1      0     0     1     0    1  \n",
       "29903      1      U     0       0    1      0     0     1     0    1  \n",
       "\n",
       "[29871 rows x 23 columns]"
      ]
     },
     "execution_count": 36,
     "metadata": {},
     "output_type": "execute_result"
    }
   ],
   "source": [
    "X_train"
   ]
  },
  {
   "cell_type": "code",
   "execution_count": 37,
   "id": "c297bd3e",
   "metadata": {},
   "outputs": [
    {
     "data": {
      "text/plain": [
       "Pipeline(steps=[('ct',\n",
       "                 ColumnTransformer(transformers=[('nc_pipe',\n",
       "                                                  Pipeline(steps=[('impute',\n",
       "                                                                   SimpleImputer(strategy='median')),\n",
       "                                                                  ('ss',\n",
       "                                                                   StandardScaler())]),\n",
       "                                                  ['AGE', 'CRED', 'HEQ',\n",
       "                                                   'INCOME', 'MILEAGE',\n",
       "                                                   'EMP_STA', 'RES_STA',\n",
       "                                                   'DELINQ', 'NUMTR', 'MFDU',\n",
       "                                                   'female', 'HOME', 'CONDO',\n",
       "                                                   'COOP', 'emp1', 'emp2',\n",
       "                                                   'msn']),\n",
       "                                                 ('cat_pipe',\n",
       "                                                  Pipeline(steps=[('impute',\n",
       "                                                                   SimpleImputer(strategy='most_frequent')),\n",
       "                                                                  ('ohe',\n",
       "                                                                   OneHotEncoder())]),\n",
       "                                                  Index(['MS', 'DEPC', 'MOB', 'RESTYPE', 'GENDER', 'MRTGI'], dtype='object'))])),\n",
       "                ('classifier', DecisionTreeClassifier())])"
      ]
     },
     "execution_count": 37,
     "metadata": {},
     "output_type": "execute_result"
    }
   ],
   "source": [
    "# Fit final pipe on the data\n",
    "pt.fit(X_train,y_train)"
   ]
  },
  {
   "cell_type": "code",
   "execution_count": 38,
   "id": "043f3adb",
   "metadata": {},
   "outputs": [
    {
     "data": {
      "text/html": [
       "<div>\n",
       "<style scoped>\n",
       "    .dataframe tbody tr th:only-of-type {\n",
       "        vertical-align: middle;\n",
       "    }\n",
       "\n",
       "    .dataframe tbody tr th {\n",
       "        vertical-align: top;\n",
       "    }\n",
       "\n",
       "    .dataframe thead th {\n",
       "        text-align: right;\n",
       "    }\n",
       "</style>\n",
       "<table border=\"1\" class=\"dataframe\">\n",
       "  <thead>\n",
       "    <tr style=\"text-align: right;\">\n",
       "      <th></th>\n",
       "      <th>AGE</th>\n",
       "      <th>CRED</th>\n",
       "      <th>MS</th>\n",
       "      <th>HEQ</th>\n",
       "      <th>INCOME</th>\n",
       "      <th>DEPC</th>\n",
       "      <th>MOB</th>\n",
       "      <th>MILEAGE</th>\n",
       "      <th>RESTYPE</th>\n",
       "      <th>GENDER</th>\n",
       "      <th>...</th>\n",
       "      <th>MRTGI</th>\n",
       "      <th>MFDU</th>\n",
       "      <th>female</th>\n",
       "      <th>HOME</th>\n",
       "      <th>CONDO</th>\n",
       "      <th>COOP</th>\n",
       "      <th>emp1</th>\n",
       "      <th>emp2</th>\n",
       "      <th>msn</th>\n",
       "      <th>resp</th>\n",
       "    </tr>\n",
       "  </thead>\n",
       "  <tbody>\n",
       "    <tr>\n",
       "      <th>0</th>\n",
       "      <td>20</td>\n",
       "      <td>543.0</td>\n",
       "      <td>U</td>\n",
       "      <td>0.1</td>\n",
       "      <td>20</td>\n",
       "      <td>N</td>\n",
       "      <td>Y</td>\n",
       "      <td>14.418</td>\n",
       "      <td>HOME</td>\n",
       "      <td>M</td>\n",
       "      <td>...</td>\n",
       "      <td>N</td>\n",
       "      <td>0</td>\n",
       "      <td>0</td>\n",
       "      <td>1</td>\n",
       "      <td>0</td>\n",
       "      <td>0</td>\n",
       "      <td>1</td>\n",
       "      <td>0</td>\n",
       "      <td>0</td>\n",
       "      <td>0</td>\n",
       "    </tr>\n",
       "    <tr>\n",
       "      <th>1</th>\n",
       "      <td>18</td>\n",
       "      <td>445.0</td>\n",
       "      <td>U</td>\n",
       "      <td>0.1</td>\n",
       "      <td>20</td>\n",
       "      <td>N</td>\n",
       "      <td>Y</td>\n",
       "      <td>0.311</td>\n",
       "      <td>HOME</td>\n",
       "      <td>M</td>\n",
       "      <td>...</td>\n",
       "      <td>Y</td>\n",
       "      <td>0</td>\n",
       "      <td>0</td>\n",
       "      <td>1</td>\n",
       "      <td>0</td>\n",
       "      <td>0</td>\n",
       "      <td>0</td>\n",
       "      <td>0</td>\n",
       "      <td>0</td>\n",
       "      <td>0</td>\n",
       "    </tr>\n",
       "    <tr>\n",
       "      <th>2</th>\n",
       "      <td>19</td>\n",
       "      <td>423.0</td>\n",
       "      <td>U</td>\n",
       "      <td>0.1</td>\n",
       "      <td>20</td>\n",
       "      <td>N</td>\n",
       "      <td>N</td>\n",
       "      <td>17.876</td>\n",
       "      <td>HOME</td>\n",
       "      <td>M</td>\n",
       "      <td>...</td>\n",
       "      <td>Y</td>\n",
       "      <td>0</td>\n",
       "      <td>0</td>\n",
       "      <td>1</td>\n",
       "      <td>0</td>\n",
       "      <td>0</td>\n",
       "      <td>1</td>\n",
       "      <td>0</td>\n",
       "      <td>0</td>\n",
       "      <td>0</td>\n",
       "    </tr>\n",
       "    <tr>\n",
       "      <th>3</th>\n",
       "      <td>18</td>\n",
       "      <td>416.0</td>\n",
       "      <td>X</td>\n",
       "      <td>0.1</td>\n",
       "      <td>20</td>\n",
       "      <td>N</td>\n",
       "      <td>Y</td>\n",
       "      <td>17.084</td>\n",
       "      <td>HOME</td>\n",
       "      <td>F</td>\n",
       "      <td>...</td>\n",
       "      <td>Y</td>\n",
       "      <td>0</td>\n",
       "      <td>1</td>\n",
       "      <td>1</td>\n",
       "      <td>0</td>\n",
       "      <td>0</td>\n",
       "      <td>1</td>\n",
       "      <td>0</td>\n",
       "      <td>0</td>\n",
       "      <td>0</td>\n",
       "    </tr>\n",
       "    <tr>\n",
       "      <th>4</th>\n",
       "      <td>18</td>\n",
       "      <td>522.0</td>\n",
       "      <td>U</td>\n",
       "      <td>0.1</td>\n",
       "      <td>20</td>\n",
       "      <td>Y</td>\n",
       "      <td>Y</td>\n",
       "      <td>16.510</td>\n",
       "      <td>HOME</td>\n",
       "      <td>F</td>\n",
       "      <td>...</td>\n",
       "      <td>Y</td>\n",
       "      <td>0</td>\n",
       "      <td>1</td>\n",
       "      <td>1</td>\n",
       "      <td>0</td>\n",
       "      <td>0</td>\n",
       "      <td>1</td>\n",
       "      <td>0</td>\n",
       "      <td>0</td>\n",
       "      <td>0</td>\n",
       "    </tr>\n",
       "  </tbody>\n",
       "</table>\n",
       "<p>5 rows × 24 columns</p>\n",
       "</div>"
      ],
      "text/plain": [
       "   AGE   CRED MS  HEQ  INCOME DEPC MOB  MILEAGE RESTYPE GENDER  ...  MRTGI  \\\n",
       "0   20  543.0  U  0.1      20    N   Y   14.418    HOME      M  ...      N   \n",
       "1   18  445.0  U  0.1      20    N   Y    0.311    HOME      M  ...      Y   \n",
       "2   19  423.0  U  0.1      20    N   N   17.876    HOME      M  ...      Y   \n",
       "3   18  416.0  X  0.1      20    N   Y   17.084    HOME      F  ...      Y   \n",
       "4   18  522.0  U  0.1      20    Y   Y   16.510    HOME      F  ...      Y   \n",
       "\n",
       "   MFDU  female  HOME CONDO  COOP  emp1  emp2  msn  resp  \n",
       "0     0       0     1     0     0     1     0    0     0  \n",
       "1     0       0     1     0     0     0     0    0     0  \n",
       "2     0       0     1     0     0     1     0    0     0  \n",
       "3     0       1     1     0     0     1     0    0     0  \n",
       "4     0       1     1     0     0     1     0    0     0  \n",
       "\n",
       "[5 rows x 24 columns]"
      ]
     },
     "execution_count": 38,
     "metadata": {},
     "output_type": "execute_result"
    }
   ],
   "source": [
    "df.head()"
   ]
  },
  {
   "cell_type": "code",
   "execution_count": 40,
   "id": "b07e90f0",
   "metadata": {},
   "outputs": [
    {
     "data": {
      "text/plain": [
       "array([0, 0, 0, ..., 0, 0, 0], dtype=int64)"
      ]
     },
     "execution_count": 40,
     "metadata": {},
     "output_type": "execute_result"
    }
   ],
   "source": [
    "# Make predictions\n",
    "pt.predict(X_train)"
   ]
  },
  {
   "cell_type": "code",
   "execution_count": 43,
   "id": "8e7b7a11",
   "metadata": {},
   "outputs": [
    {
     "data": {
      "text/html": [
       "<style>div.sk-top-container {color: black;background-color: white;}div.sk-toggleable {background-color: white;}label.sk-toggleable__label {cursor: pointer;display: block;width: 100%;margin-bottom: 0;padding: 0.2em 0.3em;box-sizing: border-box;text-align: center;}div.sk-toggleable__content {max-height: 0;max-width: 0;overflow: hidden;text-align: left;background-color: #f0f8ff;}div.sk-toggleable__content pre {margin: 0.2em;color: black;border-radius: 0.25em;background-color: #f0f8ff;}input.sk-toggleable__control:checked~div.sk-toggleable__content {max-height: 200px;max-width: 100%;overflow: auto;}div.sk-estimator input.sk-toggleable__control:checked~label.sk-toggleable__label {background-color: #d4ebff;}div.sk-label input.sk-toggleable__control:checked~label.sk-toggleable__label {background-color: #d4ebff;}input.sk-hidden--visually {border: 0;clip: rect(1px 1px 1px 1px);clip: rect(1px, 1px, 1px, 1px);height: 1px;margin: -1px;overflow: hidden;padding: 0;position: absolute;width: 1px;}div.sk-estimator {font-family: monospace;background-color: #f0f8ff;margin: 0.25em 0.25em;border: 1px dotted black;border-radius: 0.25em;box-sizing: border-box;}div.sk-estimator:hover {background-color: #d4ebff;}div.sk-parallel-item::after {content: \"\";width: 100%;border-bottom: 1px solid gray;flex-grow: 1;}div.sk-label:hover label.sk-toggleable__label {background-color: #d4ebff;}div.sk-serial::before {content: \"\";position: absolute;border-left: 1px solid gray;box-sizing: border-box;top: 2em;bottom: 0;left: 50%;}div.sk-serial {display: flex;flex-direction: column;align-items: center;background-color: white;}div.sk-item {z-index: 1;}div.sk-parallel {display: flex;align-items: stretch;justify-content: center;background-color: white;}div.sk-parallel-item {display: flex;flex-direction: column;position: relative;background-color: white;}div.sk-parallel-item:first-child::after {align-self: flex-end;width: 50%;}div.sk-parallel-item:last-child::after {align-self: flex-start;width: 50%;}div.sk-parallel-item:only-child::after {width: 0;}div.sk-dashed-wrapped {border: 1px dashed gray;margin: 0.2em;box-sizing: border-box;padding-bottom: 0.1em;background-color: white;position: relative;}div.sk-label label {font-family: monospace;font-weight: bold;background-color: white;display: inline-block;line-height: 1.2em;}div.sk-label-container {position: relative;z-index: 2;text-align: center;}div.sk-container {display: inline-block;position: relative;}</style><div class=\"sk-top-container\"><div class=\"sk-container\"><div class=\"sk-item sk-dashed-wrapped\"><div class=\"sk-label-container\"><div class=\"sk-label sk-toggleable\"><input class=\"sk-toggleable__control sk-hidden--visually\" id=\"108887e3-9bce-450b-96bb-788a70eb17cf\" type=\"checkbox\" ><label class=\"sk-toggleable__label\" for=\"108887e3-9bce-450b-96bb-788a70eb17cf\">Pipeline</label><div class=\"sk-toggleable__content\"><pre>Pipeline(steps=[('ct',\n",
       "                 ColumnTransformer(transformers=[('nc_pipe',\n",
       "                                                  Pipeline(steps=[('impute',\n",
       "                                                                   SimpleImputer(strategy='median')),\n",
       "                                                                  ('ss',\n",
       "                                                                   StandardScaler())]),\n",
       "                                                  ['AGE', 'CRED', 'HEQ',\n",
       "                                                   'INCOME', 'MILEAGE',\n",
       "                                                   'EMP_STA', 'RES_STA',\n",
       "                                                   'DELINQ', 'NUMTR', 'MFDU',\n",
       "                                                   'female', 'HOME', 'CONDO',\n",
       "                                                   'COOP', 'emp1', 'emp2',\n",
       "                                                   'msn']),\n",
       "                                                 ('cat_pipe',\n",
       "                                                  Pipeline(steps=[('impute',\n",
       "                                                                   SimpleImputer(strategy='most_frequent')),\n",
       "                                                                  ('ohe',\n",
       "                                                                   OneHotEncoder())]),\n",
       "                                                  Index(['MS', 'DEPC', 'MOB', 'RESTYPE', 'GENDER', 'MRTGI'], dtype='object'))])),\n",
       "                ('classifier', DecisionTreeClassifier())])</pre></div></div></div><div class=\"sk-serial\"><div class=\"sk-item sk-dashed-wrapped\"><div class=\"sk-label-container\"><div class=\"sk-label sk-toggleable\"><input class=\"sk-toggleable__control sk-hidden--visually\" id=\"7a0cb332-9ebf-4902-85f0-33efe927af22\" type=\"checkbox\" ><label class=\"sk-toggleable__label\" for=\"7a0cb332-9ebf-4902-85f0-33efe927af22\">ct: ColumnTransformer</label><div class=\"sk-toggleable__content\"><pre>ColumnTransformer(transformers=[('nc_pipe',\n",
       "                                 Pipeline(steps=[('impute',\n",
       "                                                  SimpleImputer(strategy='median')),\n",
       "                                                 ('ss', StandardScaler())]),\n",
       "                                 ['AGE', 'CRED', 'HEQ', 'INCOME', 'MILEAGE',\n",
       "                                  'EMP_STA', 'RES_STA', 'DELINQ', 'NUMTR',\n",
       "                                  'MFDU', 'female', 'HOME', 'CONDO', 'COOP',\n",
       "                                  'emp1', 'emp2', 'msn']),\n",
       "                                ('cat_pipe',\n",
       "                                 Pipeline(steps=[('impute',\n",
       "                                                  SimpleImputer(strategy='most_frequent')),\n",
       "                                                 ('ohe', OneHotEncoder())]),\n",
       "                                 Index(['MS', 'DEPC', 'MOB', 'RESTYPE', 'GENDER', 'MRTGI'], dtype='object'))])</pre></div></div></div><div class=\"sk-parallel\"><div class=\"sk-parallel-item\"><div class=\"sk-item\"><div class=\"sk-label-container\"><div class=\"sk-label sk-toggleable\"><input class=\"sk-toggleable__control sk-hidden--visually\" id=\"165b4530-a071-4a91-87b0-0a4b55f06139\" type=\"checkbox\" ><label class=\"sk-toggleable__label\" for=\"165b4530-a071-4a91-87b0-0a4b55f06139\">nc_pipe</label><div class=\"sk-toggleable__content\"><pre>['AGE', 'CRED', 'HEQ', 'INCOME', 'MILEAGE', 'EMP_STA', 'RES_STA', 'DELINQ', 'NUMTR', 'MFDU', 'female', 'HOME', 'CONDO', 'COOP', 'emp1', 'emp2', 'msn']</pre></div></div></div><div class=\"sk-serial\"><div class=\"sk-item\"><div class=\"sk-serial\"><div class=\"sk-item\"><div class=\"sk-estimator sk-toggleable\"><input class=\"sk-toggleable__control sk-hidden--visually\" id=\"34184113-a8a5-480a-941b-ead09cbe2145\" type=\"checkbox\" ><label class=\"sk-toggleable__label\" for=\"34184113-a8a5-480a-941b-ead09cbe2145\">SimpleImputer</label><div class=\"sk-toggleable__content\"><pre>SimpleImputer(strategy='median')</pre></div></div></div><div class=\"sk-item\"><div class=\"sk-estimator sk-toggleable\"><input class=\"sk-toggleable__control sk-hidden--visually\" id=\"2881c773-c325-4d0e-b538-04fbfb8ba666\" type=\"checkbox\" ><label class=\"sk-toggleable__label\" for=\"2881c773-c325-4d0e-b538-04fbfb8ba666\">StandardScaler</label><div class=\"sk-toggleable__content\"><pre>StandardScaler()</pre></div></div></div></div></div></div></div></div><div class=\"sk-parallel-item\"><div class=\"sk-item\"><div class=\"sk-label-container\"><div class=\"sk-label sk-toggleable\"><input class=\"sk-toggleable__control sk-hidden--visually\" id=\"b12eb905-0df0-4220-a2f0-7fa8ca604f14\" type=\"checkbox\" ><label class=\"sk-toggleable__label\" for=\"b12eb905-0df0-4220-a2f0-7fa8ca604f14\">cat_pipe</label><div class=\"sk-toggleable__content\"><pre>Index(['MS', 'DEPC', 'MOB', 'RESTYPE', 'GENDER', 'MRTGI'], dtype='object')</pre></div></div></div><div class=\"sk-serial\"><div class=\"sk-item\"><div class=\"sk-serial\"><div class=\"sk-item\"><div class=\"sk-estimator sk-toggleable\"><input class=\"sk-toggleable__control sk-hidden--visually\" id=\"c3be628b-2249-40cb-909f-4369d16a4852\" type=\"checkbox\" ><label class=\"sk-toggleable__label\" for=\"c3be628b-2249-40cb-909f-4369d16a4852\">SimpleImputer</label><div class=\"sk-toggleable__content\"><pre>SimpleImputer(strategy='most_frequent')</pre></div></div></div><div class=\"sk-item\"><div class=\"sk-estimator sk-toggleable\"><input class=\"sk-toggleable__control sk-hidden--visually\" id=\"cd826b95-1aaa-4f4c-ba3f-28ae604cb6b9\" type=\"checkbox\" ><label class=\"sk-toggleable__label\" for=\"cd826b95-1aaa-4f4c-ba3f-28ae604cb6b9\">OneHotEncoder</label><div class=\"sk-toggleable__content\"><pre>OneHotEncoder()</pre></div></div></div></div></div></div></div></div></div></div><div class=\"sk-item\"><div class=\"sk-estimator sk-toggleable\"><input class=\"sk-toggleable__control sk-hidden--visually\" id=\"974b147e-3ff4-4167-83da-7b3c7b03560d\" type=\"checkbox\" ><label class=\"sk-toggleable__label\" for=\"974b147e-3ff4-4167-83da-7b3c7b03560d\">DecisionTreeClassifier</label><div class=\"sk-toggleable__content\"><pre>DecisionTreeClassifier()</pre></div></div></div></div></div></div></div>"
      ],
      "text/plain": [
       "Pipeline(steps=[('ct',\n",
       "                 ColumnTransformer(transformers=[('nc_pipe',\n",
       "                                                  Pipeline(steps=[('impute',\n",
       "                                                                   SimpleImputer(strategy='median')),\n",
       "                                                                  ('ss',\n",
       "                                                                   StandardScaler())]),\n",
       "                                                  ['AGE', 'CRED', 'HEQ',\n",
       "                                                   'INCOME', 'MILEAGE',\n",
       "                                                   'EMP_STA', 'RES_STA',\n",
       "                                                   'DELINQ', 'NUMTR', 'MFDU',\n",
       "                                                   'female', 'HOME', 'CONDO',\n",
       "                                                   'COOP', 'emp1', 'emp2',\n",
       "                                                   'msn']),\n",
       "                                                 ('cat_pipe',\n",
       "                                                  Pipeline(steps=[('impute',\n",
       "                                                                   SimpleImputer(strategy='most_frequent')),\n",
       "                                                                  ('ohe',\n",
       "                                                                   OneHotEncoder())]),\n",
       "                                                  Index(['MS', 'DEPC', 'MOB', 'RESTYPE', 'GENDER', 'MRTGI'], dtype='object'))])),\n",
       "                ('classifier', DecisionTreeClassifier())])"
      ]
     },
     "execution_count": 43,
     "metadata": {},
     "output_type": "execute_result"
    }
   ],
   "source": [
    "set_config(display='diagram')\n",
    "pt"
   ]
  },
  {
   "cell_type": "code",
   "execution_count": 39,
   "id": "ef34ef1c",
   "metadata": {},
   "outputs": [
    {
     "ename": "NameError",
     "evalue": "name 'X_c' is not defined",
     "output_type": "error",
     "traceback": [
      "\u001b[1;31m---------------------------------------------------------------------------\u001b[0m",
      "\u001b[1;31mNameError\u001b[0m                                 Traceback (most recent call last)",
      "\u001b[1;32m<ipython-input-39-b9ba412959e1>\u001b[0m in \u001b[0;36m<module>\u001b[1;34m\u001b[0m\n\u001b[0;32m      1\u001b[0m \u001b[1;31m# splitting the data into train and test\u001b[0m\u001b[1;33m\u001b[0m\u001b[1;33m\u001b[0m\u001b[1;33m\u001b[0m\u001b[0m\n\u001b[0;32m      2\u001b[0m X_train,X_test, y_train, y_test = train_test_split(\n\u001b[1;32m----> 3\u001b[1;33m                                                     \u001b[0mX_c\u001b[0m\u001b[1;33m,\u001b[0m                   \u001b[1;31m# Data features\u001b[0m\u001b[1;33m\u001b[0m\u001b[1;33m\u001b[0m\u001b[0m\n\u001b[0m\u001b[0;32m      4\u001b[0m                                                     \u001b[0my_c\u001b[0m\u001b[1;33m,\u001b[0m                   \u001b[1;31m# Target column\u001b[0m\u001b[1;33m\u001b[0m\u001b[1;33m\u001b[0m\u001b[0m\n\u001b[0;32m      5\u001b[0m                                                     \u001b[0mtest_size\u001b[0m \u001b[1;33m=\u001b[0m \u001b[1;36m0.35\u001b[0m\u001b[1;33m,\u001b[0m     \u001b[1;31m# split-ratio\u001b[0m\u001b[1;33m\u001b[0m\u001b[1;33m\u001b[0m\u001b[0m\n",
      "\u001b[1;31mNameError\u001b[0m: name 'X_c' is not defined"
     ]
    }
   ],
   "source": [
    "# splitting the data into train and test\n",
    "X_train,X_test, y_train, y_test = train_test_split(\n",
    "                                                    X_c,                   # Data features\n",
    "                                                    y_c,                   # Target column\n",
    "                                                    test_size = 0.35,     # split-ratio\n",
    "                                                    shuffle=True    \n",
    "                                                    )"
   ]
  },
  {
   "cell_type": "code",
   "execution_count": null,
   "id": "3d48aba2",
   "metadata": {},
   "outputs": [],
   "source": [
    "# Pipeline steps\n",
    "# steps: List of (name, transform) tuples\n",
    "#       (implementing fit/transform) that are\n",
    "#       chained, in the order in which they\n",
    "#       are chained, with the last object an\n",
    "#       estimator.\n",
    "#      Format: [(name, transformer), (name, transformer)..(name, estimator)]\n",
    "\n",
    "steps_xg = [('sts', ss() ),\n",
    "            ('pca', PCA()),\n",
    "            ('xg',  XGBClassifier(silent = False,\n",
    "                                  n_jobs=2)\n",
    "             ( [ (\"le\",LabelEncoder), (\"ohe\", OneHotEncoder)])\n",
    "                                                                  # Specify other parameters here\n",
    "            )\n",
    "            ]\n",
    "\n",
    "# Instantiate Pipeline object\n",
    "\n",
    "pipe_xg = Pipeline(steps_xg)\n"
   ]
  },
  {
   "cell_type": "code",
   "execution_count": null,
   "id": "79c5ef09",
   "metadata": {},
   "outputs": [],
   "source": [
    "# 6.2 What parameters in the pipe are available for tuning\n",
    "\n",
    "print(\"\\n\\n--Which parameters can be tuned?--\\n\\n\")\n",
    "pipe_xg.get_params()"
   ]
  },
  {
   "cell_type": "code",
   "execution_count": null,
   "id": "9524cb76",
   "metadata": {},
   "outputs": [],
   "source": [
    "\n"
   ]
  },
  {
   "cell_type": "code",
   "execution_count": null,
   "id": "5c849483",
   "metadata": {},
   "outputs": [],
   "source": [
    "pip install scikit-optimize"
   ]
  },
  {
   "cell_type": "markdown",
   "id": "5d78b6ee",
   "metadata": {},
   "source": [
    "# Cross Validation\n"
   ]
  },
  {
   "cell_type": "code",
   "execution_count": null,
   "id": "dbab941f",
   "metadata": {},
   "outputs": [],
   "source": [
    "import numpy as np\n",
    "import pandas as pd\n",
    "\n",
    "\n",
    "# 1.2 Data pre-processing\n",
    "#     z = (x-mean)/stdev\n",
    "from sklearn.preprocessing import StandardScaler as ss\n",
    "\n",
    "# 1.3 Dimensionality reduction and noise removal\n",
    "from sklearn.decomposition import PCA\n",
    "\n",
    "# 1.4 Data splitting and model parameter search\n",
    "from sklearn.model_selection import train_test_split\n",
    "from sklearn.model_selection import StratifiedKFold\n",
    "\n",
    "# 1.5 Model pipelining\n",
    "from sklearn.pipeline import Pipeline\n",
    "from sklearn.pipeline import make_pipeline\n",
    "\n",
    "# 1.6 Hyperparameter optimization\n",
    "from sklearn.model_selection import GridSearchCV\n",
    "from sklearn.model_selection import RandomizedSearchCV\n",
    "\n",
    "# 1.7.1\n",
    "#     pip install scikit-optimize\n",
    "#     pip install 'scikit-optimize[plots]'\n",
    "#     Refer: https://github.com/scikit-optimize/scikit-optimize\n",
    "#     conda install -c conda-forge scikit-optimize\n",
    "from skopt import BayesSearchCV \n",
    "from skopt.space import Real, Categorical, Integer\n",
    "\n",
    "# 1.8 Modeling modules\n",
    "#     Call sklearn wrapper of xgboost\n",
    "# \"\"\"Scikit-Learn Wrapper interface for XGBoost.\"\"\"\n",
    "#  \"\"\"Implementation of the Scikit-Learn API for XGBoost.\n",
    "# https://xgboost.readthedocs.io/en/latest/python/python_api.html#module-xgboost.sklearn\n",
    "# Stackoverflow:\n",
    "# https://stackoverflow.com/a/34696477\n",
    "# https://stackoverflow.com/a/46947191\n",
    "# Install as: conda install -c anaconda py-xgboost\n",
    "from xgboost.sklearn import XGBClassifier\n",
    "\n",
    "# 1.9 Model evaluation metrics\n",
    "from sklearn.metrics import accuracy_score, f1_score\n",
    "from sklearn.metrics import plot_roc_curve\n",
    "from sklearn.metrics import confusion_matrix\n",
    "\n",
    "# 1.10\n",
    "import matplotlib.pyplot as plt\n",
    "import seaborn as sns\n",
    "from xgboost import plot_importance\n",
    "\n",
    "# 1.11 Permutation feature importance\n",
    "from sklearn.inspection import permutation_importance\n",
    "\n",
    "# 1.12 Misc\n",
    "import time\n",
    "import os\n",
    "import gc\n",
    "import random\n",
    "\n",
    "# 1.13 Used in Randomized parameter search\n",
    "from scipy.stats import uniform\n",
    "\n",
    "# 1.14\n",
    "from IPython.core.interactiveshell import InteractiveShell\n",
    "InteractiveShell.ast_node_interactivity = \"all\"\n",
    "\n",
    "# 1.15 Set option to dislay many rows\n",
    "pd.set_option('display.max_columns', 100)"
   ]
  },
  {
   "cell_type": "markdown",
   "id": "09d0a894",
   "metadata": {},
   "source": [
    "# Hyperparameter tuning both using Grid Search and Randomized Search"
   ]
  },
  {
   "cell_type": "code",
   "execution_count": null,
   "id": "37b88d60",
   "metadata": {},
   "outputs": [],
   "source": [
    "print(\"\\n\\n--Which parameters can be tuned?--\\n\\n\")\n",
    "pipe_xg.get_params()"
   ]
  },
  {
   "cell_type": "code",
   "execution_count": null,
   "id": "b3133ea6",
   "metadata": {},
   "outputs": [],
   "source": [
    "# 6.3 Define dictionary\n",
    "parameters = {'xg__learning_rate':  [0.03, 0.05], # learning rate decides what percentage\n",
    "                                                  #  of error is to be fitted by\n",
    "                                                  #   by next boosted tree.\n",
    "                                                  # See this answer in stackoverflow:\n",
    "                                                  # https://stats.stackexchange.com/questions/354484/why-does-xgboost-have-a-learning-rate\n",
    "                                                  # Coefficients of boosted trees decide,\n",
    "                                                  #  in the overall model or scheme, how much importance\n",
    "                                                  #   each boosted tree shall have. Values of these\n",
    "                                                  #    Coefficients are calculated by modeling\n",
    "                                                  #     algorithm and unlike learning rate are\n",
    "                                                  #      not hyperparameters. These Coefficients\n",
    "                                                  #       get adjusted by l1 and l2 parameters\n",
    "              'xg__n_estimators':   [200,  300],  # Number of boosted trees to fit\n",
    "                                                  # l1 and l2 specifications will change\n",
    "                                                  # the values of coeff of boosted trees\n",
    "                                                  # but not their numbers\n",
    "\n",
    "              'xg__max_depth':      [4,6],\n",
    "              'pca__n_components' : [25,30],\n",
    "              'xg__booster': ['gbtree','gblinear']\n",
    "              }                               # Total: 2 * 2 * 2 * 2"
   ]
  },
  {
   "cell_type": "code",
   "execution_count": null,
   "id": "1157f975",
   "metadata": {},
   "outputs": [],
   "source": [
    "# 6.3.1 Define revised dictionary\n",
    "#       This takes 3.5 minutes\n",
    "parameters = {'xg__learning_rate':  [0.03, 0.05], # learning rate decides what percentage\n",
    "                                                  #  of error is to be fitted by\n",
    "                                                  #   by next boosted tree.\n",
    "                                                  # See this answer in stackoverflow:\n",
    "                                                  # https://stats.stackexchange.com/questions/354484/why-does-xgboost-have-a-learning-rate\n",
    "                                                  # Coefficients of boosted trees decide,\n",
    "                                                  #  in the overall model or scheme, how much importance\n",
    "                                                  #   each boosted tree shall have. Values of these\n",
    "                                                  #    Coefficients are calculated by modeling\n",
    "                                                  #     algorithm and unlike learning rate are\n",
    "                                                  #      not hyperparameters. These Coefficients\n",
    "                                                  #       get adjusted by l1 and l2 parameters\n",
    "               'xg__max_depth':      [4,6],\n",
    " \n",
    "              'pca__n_components' : [25,30],\n",
    "               }                               # Total: 2 * 2 * 2 * 2"
   ]
  },
  {
   "cell_type": "code",
   "execution_count": null,
   "id": "4a7bddd5",
   "metadata": {},
   "outputs": [],
   "source": [
    "# 7  Grid Search (16 * 2) iterations\n",
    "#    Create Grid Search object first with all necessary\n",
    "#    specifications. Note that data, X, as yet is not specified\n",
    "\n",
    "#    Data Leakage and pipelining:\n",
    "#    Pipeline avoids data leakage during GridSearch\n",
    "#    See this: https://towardsdatascience.com/a-simple-example-of-pipeline-in-machine-learning-with-scikit-learn-e726ffbb6976\n",
    "\n",
    "clf = GridSearchCV(pipe_xg,            # pipeline object\n",
    "                   parameters,         # possible parameters\n",
    "                   n_jobs = 2,         # USe parallel cpu threads\n",
    "                   cv =2 ,             # No of folds\n",
    "                   verbose =1,         # Higher the value, more the verbosity\n",
    "                   scoring = ['accuracy', 'roc_auc'],  # Metrics for performance\n",
    "                   refit = 'roc_auc'   # Refitting final model on what parameters?\n",
    "                                       # Those which maximise auc\n",
    "                   )"
   ]
  },
  {
   "cell_type": "code",
   "execution_count": null,
   "id": "59d7174b",
   "metadata": {},
   "outputs": [],
   "source": [
    "#Start fitting pipeline to data\n",
    "print(\"\\n\\n--Takes time...---\\n\")\n",
    "start = time.time()\n",
    "clf.fit(X_train, y_train)\n",
    "end = time.time()\n",
    "print()\n",
    "(end - start)/60 "
   ]
  },
  {
   "cell_type": "code",
   "execution_count": null,
   "id": "49d3904e",
   "metadata": {},
   "outputs": [],
   "source": []
  },
  {
   "cell_type": "code",
   "execution_count": null,
   "id": "43fd81ee",
   "metadata": {},
   "outputs": [],
   "source": []
  }
 ],
 "metadata": {
  "kernelspec": {
   "display_name": "Python 3",
   "language": "python",
   "name": "python3"
  },
  "language_info": {
   "codemirror_mode": {
    "name": "ipython",
    "version": 3
   },
   "file_extension": ".py",
   "mimetype": "text/x-python",
   "name": "python",
   "nbconvert_exporter": "python",
   "pygments_lexer": "ipython3",
   "version": "3.8.8"
  }
 },
 "nbformat": 4,
 "nbformat_minor": 5
}
